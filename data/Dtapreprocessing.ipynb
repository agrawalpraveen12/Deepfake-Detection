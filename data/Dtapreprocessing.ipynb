{
 "cells": [
  {
   "cell_type": "code",
   "execution_count": 1,
   "id": "298ed4a3",
   "metadata": {},
   "outputs": [
    {
     "name": "stdout",
     "output_type": "stream",
     "text": [
      " Dataset has been split and organized successfully!\n"
     ]
    }
   ],
   "source": [
    "\n",
    "import os\n",
    "import shutil\n",
    "import random    # shuffling images randomnly\n",
    "\n",
    "# Use your dataset path\n",
    "SOURCE_DIR = r'C:\\Users\\praveen agarwal\\Desktop\\DFproject\\data\\raw_data'\n",
    "BASE_DIR = r'C:\\Users\\praveen agarwal\\Desktop\\DFproject\\data\\Data_Split'\n",
    "\n",
    "# Define your split ratios\n",
    "train_split = 0.7\n",
    "val_split = 0.2\n",
    "test_split = 0.1\n",
    "\n",
    "# Create directory structure automatically\n",
    "for split in ['train', 'val', 'test']:\n",
    "    for category in ['Real', 'Fake']:\n",
    "        dir_path = os.path.join(BASE_DIR, split, category)\n",
    "        os.makedirs(dir_path, exist_ok=True)\n",
    "\n",
    "# Loop through each category and split the images\n",
    "random.seed(42)  # For reproducibility\n",
    "for category in ['Real', 'Fake']:\n",
    "    src_folder = os.path.join(SOURCE_DIR, category)\n",
    "    images = os.listdir(src_folder)\n",
    "    random.shuffle(images)\n",
    "\n",
    "    total = len(images)   \n",
    "    train_end = int(total * train_split)\n",
    "    val_end = train_end + int(total * val_split)\n",
    "\n",
    "    train_files = images[:train_end]\n",
    "    val_files = images[train_end:val_end]\n",
    "    test_files = images[val_end:]\n",
    "\n",
    "    #  Copy files into new folders\n",
    "    for file_list, split in zip([train_files, val_files, test_files], ['train', 'val', 'test']):\n",
    "        for file_name in file_list:\n",
    "            src_file = os.path.join(src_folder, file_name)\n",
    "            dst_folder = os.path.join(BASE_DIR, split, category)\n",
    "            dst_file = os.path.join(dst_folder, file_name)\n",
    "            shutil.copy2(src_file, dst_file)\n",
    "\n",
    "print(\" Dataset has been split and organized successfully!\")\n"
   ]
  },
  {
   "cell_type": "code",
   "execution_count": null,
   "id": "6210106b",
   "metadata": {},
   "outputs": [],
   "source": [
    "import numpy as np\n",
    "import cv2\n",
    "from tqdm import tqdm\n",
    "import tensorflow as tf\n",
    "from tensorflow.keras.preprocessing.image import ImageDataGenerator   \n"
   ]
  },
  {
   "cell_type": "code",
   "execution_count": null,
   "id": "3d4742d4",
   "metadata": {},
   "outputs": [],
   "source": [
    "# Define directories\n",
    "INPUT_DIR = r'C:\\Users\\praveen agarwal\\Desktop\\DFproject\\data\\Data_Split'\n",
    "OUTPUT_DIR = r'C:\\Users\\praveen agarwal\\Desktop\\DFproject\\data\\Data_Preprocessed'\n",
    "\n",
    "# Define image target size\n",
    "TARGET_SIZE = (224, 224)  # 224x224 is standard for CNNs\n"
   ]
  },
  {
   "cell_type": "code",
   "execution_count": null,
   "id": "06a38983",
   "metadata": {},
   "outputs": [],
   "source": [
    "# Define Preprocessing Function\n",
    "\n",
    "def preprocess_image(image_path, target_size=(224, 224), grayscale=False, rescale=True):\n",
    "    # Read the image\n",
    "    img = cv2.imread(image_path)\n",
    "    if img is None:\n",
    "        raise ValueError(f\"Image not found at {image_path}\")   \n",
    "    \n",
    "    # Convert to RGB (cv2 loads BGR by default)\n",
    "    img = cv2.cvtColor(img, cv2.COLOR_BGR2RGB)\n",
    "    \n",
    "    # Convert to grayscale if specified\n",
    "    if grayscale:\n",
    "        img = cv2.cvtColor(img, cv2.COLOR_RGB2GRAY)\n",
    "        img = np.expand_dims(img, axis=-1)  # Keep 3D shape (H, W, 1)\n",
    "    \n",
    "    # Resize\n",
    "    img = cv2.resize(img, target_size)\n",
    "    \n",
    "    # Rescale pixel values to [0,1]\n",
    "    if rescale:\n",
    "        img = img.astype('float32') / 255.0\n",
    "\n",
    "    return img\n"
   ]
  },
  {
   "cell_type": "code",
   "execution_count": null,
   "id": "58af23c2",
   "metadata": {},
   "outputs": [],
   "source": [
    "# Save Preprocessed Images\n",
    "def save_preprocessed_image(image_array, output_path):\n",
    "    # Convert float values back to 0-255\n",
    "    img = (image_array * 255).astype(np.uint8)       \n",
    "    \n",
    "    # Handle grayscale\n",
    "    if img.ndim == 3 and img.shape[2] == 1:\n",
    "        img = img[:, :, 0]  # Drop the channel dimension\n",
    "\n",
    "    cv2.imwrite(output_path, img)\n"
   ]
  },
  {
   "cell_type": "code",
   "execution_count": null,
   "id": "98e41286",
   "metadata": {},
   "outputs": [],
   "source": [
    "# Create Output Directory Structure\n",
    "def create_output_dirs(base_dir, splits=['train', 'val', 'test'], classes=['real', 'fake']):\n",
    "    for split in splits:\n",
    "        for cls in classes:\n",
    "            path = os.path.join(base_dir, split, cls)\n",
    "            os.makedirs(path, exist_ok=True)\n",
    " "
   ]
  },
  {
   "cell_type": "code",
   "execution_count": 7,
   "id": "8c0841ec",
   "metadata": {},
   "outputs": [
    {
     "name": "stderr",
     "output_type": "stream",
     "text": [
      "Processing train/real: 100%|██████████| 3500/3500 [01:06<00:00, 52.76it/s]\n",
      "Processing train/fake: 100%|██████████| 3500/3500 [01:13<00:00, 47.86it/s]\n",
      "Processing val/real: 100%|██████████| 1000/1000 [00:20<00:00, 47.89it/s]\n",
      "Processing val/fake: 100%|██████████| 1000/1000 [00:20<00:00, 49.77it/s]\n",
      "Processing test/real: 100%|██████████| 500/500 [00:09<00:00, 51.07it/s]\n",
      "Processing test/fake: 100%|██████████| 500/500 [00:10<00:00, 48.80it/s]\n"
     ]
    }
   ],
   "source": [
    "# Preprocess Entire \n",
    "create_output_dirs(OUTPUT_DIR)\n",
    "\n",
    "# Loop through splits and classes\n",
    "for split in ['train', 'val', 'test']:\n",
    "    for cls in ['real', 'fake']:\n",
    "        input_folder = os.path.join(INPUT_DIR, split, cls)\n",
    "        output_folder = os.path.join(OUTPUT_DIR, split, cls)\n",
    "        image_files = os.listdir(input_folder)\n",
    "        \n",
    "        for img_name in tqdm(image_files, desc=f'Processing {split}/{cls}'):\n",
    "            img_path = os.path.join(input_folder, img_name)\n",
    "            preprocessed_img = preprocess_image(img_path, target_size=TARGET_SIZE, grayscale=False)\n",
    "            output_path = os.path.join(output_folder, img_name)\n",
    "            save_preprocessed_image(preprocessed_img, output_path)\n"
   ]
  },
  {
   "cell_type": "code",
   "execution_count": null,
   "id": "4243e1b1",
   "metadata": {},
   "outputs": [
    {
     "ename": "",
     "evalue": "",
     "output_type": "error",
     "traceback": [
      "\u001b[1;31mThe Kernel crashed while executing code in the current cell or a previous cell. \n",
      "\u001b[1;31mPlease review the code in the cell(s) to identify a possible cause of the failure. \n",
      "\u001b[1;31mClick <a href='https://aka.ms/vscodeJupyterKernelCrash'>here</a> for more info. \n",
      "\u001b[1;31mView Jupyter <a href='command:jupyter.viewOutput'>log</a> for further details."
     ]
    }
   ],
   "source": [
    "\n",
    "from tensorflow.keras.preprocessing.image import ImageDataGenerator\n",
    "\n",
    "# Data augmentation\n",
    "\n",
    "datagen_train = ImageDataGenerator(\n",
    "    rescale=1./255,\n",
    "    rotation_range=30,\n",
    "    width_shift_range=0.2,\n",
    "    height_shift_range=0.2,\n",
    "    shear_range=0.2,\n",
    "    zoom_range=0.3,\n",
    "    brightness_range=[0.7, 1.3],  \n",
    "    horizontal_flip=True,\n",
    "    channel_shift_range=20.0,\n",
    "    fill_mode='nearest'      \n",
    ")\n",
    "\n",
    "datagen_val = ImageDataGenerator(\n",
    "    rescale=1./255\n",
    ")\n"
   ]
  }
 ],
 "metadata": {
  "kernelspec": {
   "display_name": "base",
   "language": "python",
   "name": "python3"
  },
  "language_info": {
   "codemirror_mode": {
    "name": "ipython",
    "version": 3
   },
   "file_extension": ".py",
   "mimetype": "text/x-python",
   "name": "python",
   "nbconvert_exporter": "python",
   "pygments_lexer": "ipython3",
   "version": "3.12.7"
  }
 },
 "nbformat": 4,
 "nbformat_minor": 5
}
